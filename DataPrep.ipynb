{
 "cells": [
  {
   "cell_type": "code",
   "execution_count": 1,
   "metadata": {},
   "outputs": [
    {
     "output_type": "execute_result",
     "data": {
      "text/plain": "'1.1.2'"
     },
     "metadata": {},
     "execution_count": 1
    }
   ],
   "source": [
    "##import all libraries\n",
    "\n",
    "import requests\n",
    "#from neo4j import GraphDatabase\n",
    "import pandas as pd \n",
    "import json \n",
    "from time import sleep \n",
    "from riot import riotData\n",
    "from tqdm import tqdm, tqdm_notebook\n",
    "tqdm.pandas()\n",
    "\n",
    "pd.__version__"
   ]
  },
  {
   "cell_type": "code",
   "execution_count": 2,
   "metadata": {
    "collapsed": true,
    "tags": []
   },
   "outputs": [],
   "source": [
    "##setup\n",
    "RIOT_API_CREDENCIAL = open('riotCredential', 'r') .readlines()[0]\n",
    "\n",
    "RIOT_API_URL_RANK = \"https://br1.api.riotgames.com/lol/league/v4/challengerleagues/by-queue/RANKED_SOLO_5x5\"\n",
    "RIOT_API_URL_SUMMONER = \"https://br1.api.riotgames.com/lol/summoner/v4/summoners/\"\n",
    "RIOT_API_URL_MATCHES = \"https://br1.api.riotgames.com/lol/match/v4/matchlists/by-account/\"\n",
    "RIOT_API_URL_MATCHES_DETAIL = \"https://br1.api.riotgames.com/lol/match/v4/matches/\"\n",
    "\n",
    "rData = riotData(RIOT_API_CREDENCIAL = RIOT_API_CREDENCIAL, RIOT_API_URL_RANK = RIOT_API_URL_RANK, RIOT_API_URL_SUMMONER = RIOT_API_URL_SUMMONER, RIOT_API_URL_MATCHES=RIOT_API_URL_MATCHES, RIOT_API_URL_MATCHES_DETAIL = RIOT_API_URL_MATCHES_DETAIL)"
   ]
  },
  {
   "cell_type": "markdown",
   "metadata": {},
   "source": [
    "Captura os dados dos principais jogares do servidor"
   ]
  },
  {
   "cell_type": "code",
   "execution_count": 3,
   "metadata": {
    "tags": []
   },
   "outputs": [
    {
     "output_type": "stream",
     "name": "stderr",
     "text": "100%|██████████| 5/5 [00:05<00:00,  1.04s/it]\n100%|██████████| 5/5 [01:25<00:00, 17.01s/it]\n"
    }
   ],
   "source": [
    "dfSummoners = pd.DataFrame.from_dict(rData.getAllSummoners()['entries']).head(5)\n",
    "\n",
    "dfSummoners = pd.json_normalize(dfSummoners.progress_apply(lambda x: rData.getSummonerAccountDetail(x), axis=1))\n",
    "\n",
    "dfMatches = pd.json_normalize(dfSummoners.progress_apply(lambda x: rData.getMatchesOfSummoner(x['accountId']), axis=1))\n",
    "\n",
    "dfMatches = dfMatches.progress_apply (lambda x: rData.getDetailMatches(item = x), axis=1)"
   ]
  }
 ],
 "metadata": {
  "kernelspec": {
   "display_name": "Python 3.6.12 64-bit",
   "language": "python",
   "name": "python_defaultSpec_1599874062068"
  },
  "language_info": {
   "codemirror_mode": {
    "name": "ipython",
    "version": 3
   },
   "file_extension": ".py",
   "mimetype": "text/x-python",
   "name": "python",
   "nbconvert_exporter": "python",
   "pygments_lexer": "ipython3",
   "version": "3.6.12-final"
  }
 },
 "nbformat": 4,
 "nbformat_minor": 2
}